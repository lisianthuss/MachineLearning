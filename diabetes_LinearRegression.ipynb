{
 "cells": [
  {
   "cell_type": "code",
   "execution_count": 1,
   "metadata": {
    "collapsed": true
   },
   "outputs": [],
   "source": [
    "from sklearn import datasets"
   ]
  },
  {
   "cell_type": "code",
   "execution_count": 2,
   "metadata": {
    "collapsed": true
   },
   "outputs": [],
   "source": [
    "diabetes = datasets.load_diabetes()"
   ]
  },
  {
   "cell_type": "code",
   "execution_count": 3,
   "metadata": {},
   "outputs": [
    {
     "name": "stdout",
     "output_type": "stream",
     "text": [
      "(442, 10) (442,)\n"
     ]
    }
   ],
   "source": [
    "print(diabetes.data.shape, diabetes.target.shape)"
   ]
  },
  {
   "cell_type": "code",
   "execution_count": 4,
   "metadata": {},
   "outputs": [
    {
     "name": "stdout",
     "output_type": "stream",
     "text": [
      "[ 151.   75.  141.  206.  135.   97.  138.   63.  110.  310.]\n"
     ]
    }
   ],
   "source": [
    "print(diabetes.target[:10])"
   ]
  },
  {
   "cell_type": "code",
   "execution_count": 5,
   "metadata": {},
   "outputs": [
    {
     "name": "stdout",
     "output_type": "stream",
     "text": [
      "[[ 0.03807591  0.05068012  0.06169621  0.02187235 -0.0442235  -0.03482076\n",
      "  -0.04340085 -0.00259226  0.01990842 -0.01764613]\n",
      " [-0.00188202 -0.04464164 -0.05147406 -0.02632783 -0.00844872 -0.01916334\n",
      "   0.07441156 -0.03949338 -0.06832974 -0.09220405]\n",
      " [ 0.08529891  0.05068012  0.04445121 -0.00567061 -0.04559945 -0.03419447\n",
      "  -0.03235593 -0.00259226  0.00286377 -0.02593034]\n",
      " [-0.08906294 -0.04464164 -0.01159501 -0.03665645  0.01219057  0.02499059\n",
      "  -0.03603757  0.03430886  0.02269202 -0.00936191]\n",
      " [ 0.00538306 -0.04464164 -0.03638469  0.02187235  0.00393485  0.01559614\n",
      "   0.00814208 -0.00259226 -0.03199144 -0.04664087]]\n"
     ]
    }
   ],
   "source": [
    "print(diabetes.data[:5])"
   ]
  },
  {
   "cell_type": "code",
   "execution_count": 6,
   "metadata": {},
   "outputs": [
    {
     "name": "stdout",
     "output_type": "stream",
     "text": [
      "Using matplotlib backend: TkAgg\n",
      "Populating the interactive namespace from numpy and matplotlib\n"
     ]
    }
   ],
   "source": [
    "pylab"
   ]
  },
  {
   "cell_type": "code",
   "execution_count": 16,
   "metadata": {},
   "outputs": [
    {
     "data": {
      "text/plain": [
       "<matplotlib.collections.PathCollection at 0x117ebc278>"
      ]
     },
     "execution_count": 16,
     "metadata": {},
     "output_type": "execute_result"
    }
   ],
   "source": [
    "plt.scatter(diabetes.data[:,2], diabetes.target)"
   ]
  },
  {
   "cell_type": "code",
   "execution_count": 8,
   "metadata": {},
   "outputs": [
    {
     "data": {
      "text/plain": [
       "Text(38.3472,0.5,'y')"
      ]
     },
     "execution_count": 8,
     "metadata": {},
     "output_type": "execute_result"
    }
   ],
   "source": [
    "plt.xlabel('x')\n",
    "plt.ylabel('y')"
   ]
  },
  {
   "cell_type": "code",
   "execution_count": 45,
   "metadata": {
    "collapsed": true
   },
   "outputs": [],
   "source": [
    "class SingleNeuron(object):\n",
    "    def __init__(self):\n",
    "        self._w = 0 # weight\n",
    "        self._b = 0 # bias\n",
    "        self._x = 0 # input\n",
    "        self._x_grad = 0\n",
    "        self._b_grad = 0\n",
    "        \n",
    "    def set_params(self, w, b):\n",
    "        self._w = w\n",
    "        self._b = b\n",
    "        \n",
    "    def forpass(self, x):\n",
    "        self._x = x\n",
    "        _y_hat = self._w * self._x + self._b\n",
    "        return _y_hat\n",
    "    \n",
    "    def backprop(self, err):\n",
    "        \"\"\"에러를 입력받아 가중치와 바이어스의 변화율을 곱하고 평균을 낸 뒤 감소된 변화량을 저장\n",
    "        \"\"\"\n",
    "        m = len(self._x)\n",
    "        self._w_grad = 0.1 * np.sum(err * self._x) / m\n",
    "        self._b_grad = 0.1 * np.sum(err * 1) / m\n",
    "        \n",
    "        \n",
    "    def update_grad(self):\n",
    "        \"\"\"계산된 파라메타의 변경량을 업데이트하여 새로운 파라메타를 셋팅합니다.\"\"\"\n",
    "        self.set_params(self._w + self._w_grad, self._b + self._b_grad)\n",
    "        "
   ]
  },
  {
   "cell_type": "code",
   "execution_count": 42,
   "metadata": {},
   "outputs": [
    {
     "name": "stdout",
     "output_type": "stream",
     "text": [
      "16\n"
     ]
    }
   ],
   "source": [
    "n1 = SingleNeuron()\n",
    "n1.set_params(5,1)\n",
    "print(n1.forpass(3))"
   ]
  },
  {
   "cell_type": "code",
   "execution_count": 83,
   "metadata": {},
   "outputs": [
    {
     "name": "stdout",
     "output_type": "stream",
     "text": [
      "Final W 948.376413281\n",
      "Final b 152.133484163\n"
     ]
    },
    {
     "data": {
      "text/plain": [
       "<matplotlib.collections.PathCollection at 0x12078fcf8>"
      ]
     },
     "execution_count": 83,
     "metadata": {},
     "output_type": "execute_result"
    }
   ],
   "source": [
    "n1.set_params(10, 8)\n",
    "for i in range(30000):\n",
    "    y_hat = n1.forpass(diabetes.data[:, 2])\n",
    "    error = diabetes.target - y_hat\n",
    "    n1.backprop(error)\n",
    "    n1.update_grad()\n",
    "\n",
    "print('Final W', n1._w)\n",
    "print('Final b', n1._b)\n",
    "\n",
    "plt.plot(diabetes.data, diabetes.data * n1._w + n1._b, color='red')\n",
    "plt.scatter(diabetes.data[:,2], diabetes.target)\n",
    "\n"
   ]
  }
 ],
 "metadata": {
  "kernelspec": {
   "display_name": "Python 3",
   "language": "python",
   "name": "python3"
  },
  "language_info": {
   "codemirror_mode": {
    "name": "ipython",
    "version": 3
   },
   "file_extension": ".py",
   "mimetype": "text/x-python",
   "name": "python",
   "nbconvert_exporter": "python",
   "pygments_lexer": "ipython3",
   "version": "3.6.1"
  }
 },
 "nbformat": 4,
 "nbformat_minor": 2
}
